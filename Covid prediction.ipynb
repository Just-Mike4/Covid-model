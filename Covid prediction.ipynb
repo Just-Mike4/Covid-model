{
 "cells": [
  {
   "cell_type": "code",
   "execution_count": 116,
   "id": "4a25a8a4",
   "metadata": {},
   "outputs": [],
   "source": [
    "import numpy as np\n",
    "import pandas as pd\n",
    "import matplotlib.pyplot as plt\n",
    "from sklearn.model_selection import train_test_split\n",
    "from sklearn.linear_model import LinearRegression"
   ]
  },
  {
   "cell_type": "code",
   "execution_count": 117,
   "id": "c47c30e3",
   "metadata": {},
   "outputs": [],
   "source": [
    "df=pd.read_csv(r\"C:\\Users\\USER\\Desktop\\All python programs\\COVID-19 Coronavirus.csv\",index_col=\"Country\")"
   ]
  },
  {
   "cell_type": "code",
   "execution_count": 118,
   "id": "a1155629",
   "metadata": {},
   "outputs": [
    {
     "data": {
      "text/html": [
       "<div>\n",
       "<style scoped>\n",
       "    .dataframe tbody tr th:only-of-type {\n",
       "        vertical-align: middle;\n",
       "    }\n",
       "\n",
       "    .dataframe tbody tr th {\n",
       "        vertical-align: top;\n",
       "    }\n",
       "\n",
       "    .dataframe thead th {\n",
       "        text-align: right;\n",
       "    }\n",
       "</style>\n",
       "<table border=\"1\" class=\"dataframe\">\n",
       "  <thead>\n",
       "    <tr style=\"text-align: right;\">\n",
       "      <th></th>\n",
       "      <th>Population</th>\n",
       "      <th>Total Cases</th>\n",
       "      <th>Total Deaths</th>\n",
       "      <th>Tot Cases//1M pop</th>\n",
       "      <th>Tot Deaths/1M pop</th>\n",
       "      <th>Death percentage</th>\n",
       "    </tr>\n",
       "  </thead>\n",
       "  <tbody>\n",
       "    <tr>\n",
       "      <th>count</th>\n",
       "      <td>2.250000e+02</td>\n",
       "      <td>2.250000e+02</td>\n",
       "      <td>2.250000e+02</td>\n",
       "      <td>225.000000</td>\n",
       "      <td>225.000000</td>\n",
       "      <td>225.000000</td>\n",
       "    </tr>\n",
       "    <tr>\n",
       "      <th>mean</th>\n",
       "      <td>3.507321e+07</td>\n",
       "      <td>2.184781e+06</td>\n",
       "      <td>2.744813e+04</td>\n",
       "      <td>136900.373333</td>\n",
       "      <td>1096.715556</td>\n",
       "      <td>1.444125</td>\n",
       "    </tr>\n",
       "    <tr>\n",
       "      <th>std</th>\n",
       "      <td>1.392418e+08</td>\n",
       "      <td>7.275938e+06</td>\n",
       "      <td>9.689177e+04</td>\n",
       "      <td>145060.340289</td>\n",
       "      <td>1195.715543</td>\n",
       "      <td>1.741728</td>\n",
       "    </tr>\n",
       "    <tr>\n",
       "      <th>min</th>\n",
       "      <td>8.050000e+02</td>\n",
       "      <td>1.000000e+00</td>\n",
       "      <td>0.000000e+00</td>\n",
       "      <td>9.000000</td>\n",
       "      <td>0.000000</td>\n",
       "      <td>0.000000</td>\n",
       "    </tr>\n",
       "    <tr>\n",
       "      <th>25%</th>\n",
       "      <td>5.665570e+05</td>\n",
       "      <td>2.407100e+04</td>\n",
       "      <td>1.890000e+02</td>\n",
       "      <td>11384.000000</td>\n",
       "      <td>123.000000</td>\n",
       "      <td>0.511291</td>\n",
       "    </tr>\n",
       "    <tr>\n",
       "      <th>50%</th>\n",
       "      <td>5.827911e+06</td>\n",
       "      <td>1.639360e+05</td>\n",
       "      <td>1.965000e+03</td>\n",
       "      <td>88987.000000</td>\n",
       "      <td>708.000000</td>\n",
       "      <td>1.036905</td>\n",
       "    </tr>\n",
       "    <tr>\n",
       "      <th>75%</th>\n",
       "      <td>2.190585e+07</td>\n",
       "      <td>1.092547e+06</td>\n",
       "      <td>1.366000e+04</td>\n",
       "      <td>223335.000000</td>\n",
       "      <td>1795.000000</td>\n",
       "      <td>1.977017</td>\n",
       "    </tr>\n",
       "    <tr>\n",
       "      <th>max</th>\n",
       "      <td>1.439324e+09</td>\n",
       "      <td>8.183905e+07</td>\n",
       "      <td>1.008222e+06</td>\n",
       "      <td>696044.000000</td>\n",
       "      <td>6286.000000</td>\n",
       "      <td>18.151787</td>\n",
       "    </tr>\n",
       "  </tbody>\n",
       "</table>\n",
       "</div>"
      ],
      "text/plain": [
       "         Population   Total Cases  Total Deaths  Tot Cases//1M pop  \\\n",
       "count  2.250000e+02  2.250000e+02  2.250000e+02         225.000000   \n",
       "mean   3.507321e+07  2.184781e+06  2.744813e+04      136900.373333   \n",
       "std    1.392418e+08  7.275938e+06  9.689177e+04      145060.340289   \n",
       "min    8.050000e+02  1.000000e+00  0.000000e+00           9.000000   \n",
       "25%    5.665570e+05  2.407100e+04  1.890000e+02       11384.000000   \n",
       "50%    5.827911e+06  1.639360e+05  1.965000e+03       88987.000000   \n",
       "75%    2.190585e+07  1.092547e+06  1.366000e+04      223335.000000   \n",
       "max    1.439324e+09  8.183905e+07  1.008222e+06      696044.000000   \n",
       "\n",
       "       Tot Deaths/1M pop  Death percentage  \n",
       "count         225.000000        225.000000  \n",
       "mean         1096.715556          1.444125  \n",
       "std          1195.715543          1.741728  \n",
       "min             0.000000          0.000000  \n",
       "25%           123.000000          0.511291  \n",
       "50%           708.000000          1.036905  \n",
       "75%          1795.000000          1.977017  \n",
       "max          6286.000000         18.151787  "
      ]
     },
     "execution_count": 118,
     "metadata": {},
     "output_type": "execute_result"
    }
   ],
   "source": [
    "df.describe()"
   ]
  },
  {
   "cell_type": "code",
   "execution_count": 119,
   "id": "5346fd4e",
   "metadata": {},
   "outputs": [
    {
     "name": "stdout",
     "output_type": "stream",
     "text": [
      "<class 'pandas.core.frame.DataFrame'>\n",
      "Index: 225 entries, Afghanistan to Zimbabwe\n",
      "Data columns (total 9 columns):\n",
      " #   Column                   Non-Null Count  Dtype  \n",
      "---  ------                   --------------  -----  \n",
      " 0   Other names              224 non-null    object \n",
      " 1   ISO 3166-1 alpha-3 CODE  225 non-null    object \n",
      " 2   Population               225 non-null    int64  \n",
      " 3   Continent                225 non-null    object \n",
      " 4   Total Cases              225 non-null    int64  \n",
      " 5   Total Deaths             225 non-null    int64  \n",
      " 6   Tot Cases//1M pop        225 non-null    int64  \n",
      " 7   Tot Deaths/1M pop        225 non-null    int64  \n",
      " 8   Death percentage         225 non-null    float64\n",
      "dtypes: float64(1), int64(5), object(3)\n",
      "memory usage: 17.6+ KB\n"
     ]
    }
   ],
   "source": [
    "df.info()"
   ]
  },
  {
   "cell_type": "code",
   "execution_count": 120,
   "id": "65ae4512",
   "metadata": {},
   "outputs": [],
   "source": [
    "model=LinearRegression()\n",
    "x=df[['Total Cases']].values\n",
    "y=df[['Total Deaths']].values"
   ]
  },
  {
   "cell_type": "code",
   "execution_count": 121,
   "id": "b59508f3",
   "metadata": {},
   "outputs": [],
   "source": [
    "x_train,x_test,y_train,y_test=train_test_split(x,y,test_size=0.3)"
   ]
  },
  {
   "cell_type": "code",
   "execution_count": 122,
   "id": "5be5f094",
   "metadata": {},
   "outputs": [
    {
     "data": {
      "text/html": [
       "<style>#sk-container-id-7 {color: black;background-color: white;}#sk-container-id-7 pre{padding: 0;}#sk-container-id-7 div.sk-toggleable {background-color: white;}#sk-container-id-7 label.sk-toggleable__label {cursor: pointer;display: block;width: 100%;margin-bottom: 0;padding: 0.3em;box-sizing: border-box;text-align: center;}#sk-container-id-7 label.sk-toggleable__label-arrow:before {content: \"▸\";float: left;margin-right: 0.25em;color: #696969;}#sk-container-id-7 label.sk-toggleable__label-arrow:hover:before {color: black;}#sk-container-id-7 div.sk-estimator:hover label.sk-toggleable__label-arrow:before {color: black;}#sk-container-id-7 div.sk-toggleable__content {max-height: 0;max-width: 0;overflow: hidden;text-align: left;background-color: #f0f8ff;}#sk-container-id-7 div.sk-toggleable__content pre {margin: 0.2em;color: black;border-radius: 0.25em;background-color: #f0f8ff;}#sk-container-id-7 input.sk-toggleable__control:checked~div.sk-toggleable__content {max-height: 200px;max-width: 100%;overflow: auto;}#sk-container-id-7 input.sk-toggleable__control:checked~label.sk-toggleable__label-arrow:before {content: \"▾\";}#sk-container-id-7 div.sk-estimator input.sk-toggleable__control:checked~label.sk-toggleable__label {background-color: #d4ebff;}#sk-container-id-7 div.sk-label input.sk-toggleable__control:checked~label.sk-toggleable__label {background-color: #d4ebff;}#sk-container-id-7 input.sk-hidden--visually {border: 0;clip: rect(1px 1px 1px 1px);clip: rect(1px, 1px, 1px, 1px);height: 1px;margin: -1px;overflow: hidden;padding: 0;position: absolute;width: 1px;}#sk-container-id-7 div.sk-estimator {font-family: monospace;background-color: #f0f8ff;border: 1px dotted black;border-radius: 0.25em;box-sizing: border-box;margin-bottom: 0.5em;}#sk-container-id-7 div.sk-estimator:hover {background-color: #d4ebff;}#sk-container-id-7 div.sk-parallel-item::after {content: \"\";width: 100%;border-bottom: 1px solid gray;flex-grow: 1;}#sk-container-id-7 div.sk-label:hover label.sk-toggleable__label {background-color: #d4ebff;}#sk-container-id-7 div.sk-serial::before {content: \"\";position: absolute;border-left: 1px solid gray;box-sizing: border-box;top: 0;bottom: 0;left: 50%;z-index: 0;}#sk-container-id-7 div.sk-serial {display: flex;flex-direction: column;align-items: center;background-color: white;padding-right: 0.2em;padding-left: 0.2em;position: relative;}#sk-container-id-7 div.sk-item {position: relative;z-index: 1;}#sk-container-id-7 div.sk-parallel {display: flex;align-items: stretch;justify-content: center;background-color: white;position: relative;}#sk-container-id-7 div.sk-item::before, #sk-container-id-7 div.sk-parallel-item::before {content: \"\";position: absolute;border-left: 1px solid gray;box-sizing: border-box;top: 0;bottom: 0;left: 50%;z-index: -1;}#sk-container-id-7 div.sk-parallel-item {display: flex;flex-direction: column;z-index: 1;position: relative;background-color: white;}#sk-container-id-7 div.sk-parallel-item:first-child::after {align-self: flex-end;width: 50%;}#sk-container-id-7 div.sk-parallel-item:last-child::after {align-self: flex-start;width: 50%;}#sk-container-id-7 div.sk-parallel-item:only-child::after {width: 0;}#sk-container-id-7 div.sk-dashed-wrapped {border: 1px dashed gray;margin: 0 0.4em 0.5em 0.4em;box-sizing: border-box;padding-bottom: 0.4em;background-color: white;}#sk-container-id-7 div.sk-label label {font-family: monospace;font-weight: bold;display: inline-block;line-height: 1.2em;}#sk-container-id-7 div.sk-label-container {text-align: center;}#sk-container-id-7 div.sk-container {/* jupyter's `normalize.less` sets `[hidden] { display: none; }` but bootstrap.min.css set `[hidden] { display: none !important; }` so we also need the `!important` here to be able to override the default hidden behavior on the sphinx rendered scikit-learn.org. See: https://github.com/scikit-learn/scikit-learn/issues/21755 */display: inline-block !important;position: relative;}#sk-container-id-7 div.sk-text-repr-fallback {display: none;}</style><div id=\"sk-container-id-7\" class=\"sk-top-container\"><div class=\"sk-text-repr-fallback\"><pre>LinearRegression()</pre><b>In a Jupyter environment, please rerun this cell to show the HTML representation or trust the notebook. <br />On GitHub, the HTML representation is unable to render, please try loading this page with nbviewer.org.</b></div><div class=\"sk-container\" hidden><div class=\"sk-item\"><div class=\"sk-estimator sk-toggleable\"><input class=\"sk-toggleable__control sk-hidden--visually\" id=\"sk-estimator-id-7\" type=\"checkbox\" checked><label for=\"sk-estimator-id-7\" class=\"sk-toggleable__label sk-toggleable__label-arrow\">LinearRegression</label><div class=\"sk-toggleable__content\"><pre>LinearRegression()</pre></div></div></div></div></div>"
      ],
      "text/plain": [
       "LinearRegression()"
      ]
     },
     "execution_count": 122,
     "metadata": {},
     "output_type": "execute_result"
    }
   ],
   "source": [
    "model.fit(x_train,y_train)"
   ]
  },
  {
   "cell_type": "code",
   "execution_count": 123,
   "id": "062b0cc2",
   "metadata": {},
   "outputs": [
    {
     "data": {
      "text/plain": [
       "0.8367963091103533"
      ]
     },
     "execution_count": 123,
     "metadata": {},
     "output_type": "execute_result"
    }
   ],
   "source": [
    "model.score(x,y)"
   ]
  },
  {
   "cell_type": "code",
   "execution_count": 124,
   "id": "4eaa7098",
   "metadata": {},
   "outputs": [
    {
     "data": {
      "text/plain": [
       "array([[  1964.95555327],\n",
       "       [  5367.80529276],\n",
       "       [  1695.62308305],\n",
       "       [  1571.98109086],\n",
       "       [  6834.96343368],\n",
       "       [ 63821.42476743],\n",
       "       [  1564.68591249],\n",
       "       [  1721.75787155],\n",
       "       [  1744.06958547],\n",
       "       [  7052.94135787],\n",
       "       [  2134.61232175],\n",
       "       [ 26365.83557986],\n",
       "       [  3477.72736102],\n",
       "       [ 10227.40939645],\n",
       "       [  3817.31666074],\n",
       "       [  1588.80261899],\n",
       "       [  3176.4816191 ],\n",
       "       [  1632.05976772],\n",
       "       [ 40116.23150165],\n",
       "       [  8066.73299276],\n",
       "       [  1645.60974679],\n",
       "       [  9665.02885898],\n",
       "       [ 11597.63692854],\n",
       "       [  1688.40311271],\n",
       "       [ 22210.59222912],\n",
       "       [  3242.52679923],\n",
       "       [ 19195.82843046],\n",
       "       [ 60210.62484034],\n",
       "       [  7427.16395285],\n",
       "       [  1539.16532286],\n",
       "       [  2293.90291753],\n",
       "       [  1538.1625492 ],\n",
       "       [  8541.33323103],\n",
       "       [  3839.00164113],\n",
       "       [  1875.97192568],\n",
       "       [ 54766.20313854],\n",
       "       [ 14522.60234601],\n",
       "       [225869.46009055],\n",
       "       [175446.86683317],\n",
       "       [  5512.58073982],\n",
       "       [  3593.0212625 ],\n",
       "       [327412.65228022],\n",
       "       [ 12059.33899062],\n",
       "       [  7871.45535728],\n",
       "       [ 23166.54889321],\n",
       "       [  1648.58046376],\n",
       "       [  4868.48668378],\n",
       "       [ 46714.51978387],\n",
       "       [ 47659.27045231],\n",
       "       [146333.31411332],\n",
       "       [  2001.21835572],\n",
       "       [ 15238.46992672],\n",
       "       [  2611.90751424],\n",
       "       [  1756.09033471],\n",
       "       [  1921.05913633],\n",
       "       [  1607.6923678 ],\n",
       "       [  1932.18992395],\n",
       "       [  2331.231167  ],\n",
       "       [  1634.32854313],\n",
       "       [ 20659.35151687],\n",
       "       [  1687.18724964],\n",
       "       [ 17898.23931532],\n",
       "       [ 91382.22007987],\n",
       "       [  3555.85596375],\n",
       "       [  4057.20518939],\n",
       "       [ 11466.36132186],\n",
       "       [  1997.25739977],\n",
       "       [ 26002.93179255]])"
      ]
     },
     "execution_count": 124,
     "metadata": {},
     "output_type": "execute_result"
    }
   ],
   "source": [
    "y_pred=model.predict(x_test)\n",
    "y_pred"
   ]
  },
  {
   "cell_type": "code",
   "execution_count": 125,
   "id": "6bcb4d96",
   "metadata": {},
   "outputs": [],
   "source": [
    "new=np.array([[256000]]).reshape(1,-1)"
   ]
  },
  {
   "cell_type": "code",
   "execution_count": 126,
   "id": "7ba64d10",
   "metadata": {},
   "outputs": [
    {
     "data": {
      "text/plain": [
       "array([[4747.01318962]])"
      ]
     },
     "execution_count": 126,
     "metadata": {},
     "output_type": "execute_result"
    }
   ],
   "source": [
    "newp=model.predict(new)\n",
    "newp"
   ]
  },
  {
   "cell_type": "code",
   "execution_count": 127,
   "id": "0aea0ffd",
   "metadata": {},
   "outputs": [
    {
     "data": {
      "text/plain": [
       "array([1538.13747986])"
      ]
     },
     "execution_count": 127,
     "metadata": {},
     "output_type": "execute_result"
    }
   ],
   "source": [
    "model.intercept_"
   ]
  },
  {
   "cell_type": "code",
   "execution_count": 128,
   "id": "42fe55ea",
   "metadata": {},
   "outputs": [
    {
     "data": {
      "text/plain": [
       "array([[0.01253467]])"
      ]
     },
     "execution_count": 128,
     "metadata": {},
     "output_type": "execute_result"
    }
   ],
   "source": [
    "model.coef_"
   ]
  },
  {
   "cell_type": "code",
   "execution_count": 129,
   "id": "8aaa1771",
   "metadata": {},
   "outputs": [
    {
     "data": {
      "text/plain": [
       "(68, 1)"
      ]
     },
     "execution_count": 129,
     "metadata": {},
     "output_type": "execute_result"
    }
   ],
   "source": [
    "y_test.shape"
   ]
  },
  {
   "cell_type": "code",
   "execution_count": 130,
   "id": "d66e889b",
   "metadata": {},
   "outputs": [
    {
     "data": {
      "text/plain": [
       "(68, 1)"
      ]
     },
     "execution_count": 130,
     "metadata": {},
     "output_type": "execute_result"
    }
   ],
   "source": [
    "x_test.shape"
   ]
  },
  {
   "cell_type": "code",
   "execution_count": 131,
   "id": "fe2ee1df",
   "metadata": {},
   "outputs": [
    {
     "data": {
      "text/plain": [
       "<matplotlib.legend.Legend at 0x1d1578afb20>"
      ]
     },
     "execution_count": 131,
     "metadata": {},
     "output_type": "execute_result"
    },
    {
     "data": {
      "image/png": "[encoded data removed]",
      "text/plain": [
       "<Figure size 432x288 with 1 Axes>"
      ]
     },
     "metadata": {},
     "output_type": "display_data"
    }
   ],
   "source": [
    "plt.scatter(x_test,y_test,label='Testing Data')\n",
    "plt.plot(x_test,y_pred,label='Prediction',linewidth=3)\n",
    "plt.xlabel('Cases')\n",
    "plt.ylabel('Deaths')\n",
    "plt.legend(loc='upper left')"
   ]
  },
  {
   "cell_type": "code",
   "execution_count": null,
   "id": "85663b0b",
   "metadata": {},
   "outputs": [],
   "source": []
  },
  {
   "cell_type": "code",
   "execution_count": null,
   "id": "0dacf09d",
   "metadata": {},
   "outputs": [],
   "source": []
  }
 ],
 "metadata": {
  "kernelspec": {
   "display_name": "Python 3 (ipykernel)",
   "language": "python",
   "name": "python3"
  },
  "language_info": {
   "codemirror_mode": {
    "name": "ipython",
    "version": 3
   },
   "file_extension": ".py",
   "mimetype": "text/x-python",
   "name": "python",
   "nbconvert_exporter": "python",
   "pygments_lexer": "ipython3",
   "version": "3.10.4"
  }
 },
 "nbformat": 4,
 "nbformat_minor": 5
}
